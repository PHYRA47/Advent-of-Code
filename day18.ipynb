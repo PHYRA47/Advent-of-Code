{
 "cells": [
  {
   "cell_type": "markdown",
   "id": "b84a20dd-49be-4a1b-8b80-615500bd78c8",
   "metadata": {},
   "source": [
    "# Day 18: Lavaduct Lagoon"
   ]
  },
  {
   "cell_type": "code",
   "execution_count": 1,
   "id": "279d83fb-d8a4-431a-997c-be36c14aa596",
   "metadata": {},
   "outputs": [],
   "source": [
    "with open('day18_data.txt', 'r') as file: \n",
    "    lines = file.read()\n",
    "lines = lines.splitlines()"
   ]
  },
  {
   "cell_type": "code",
   "execution_count": 2,
   "id": "69c17955-98ff-417e-86ed-08484956d564",
   "metadata": {},
   "outputs": [],
   "source": [
    "def perimeter(pts):\n",
    "    total = 0  # Simple assignment (Time Complexity: O(1))\n",
    "    for (r1,c1), (r2,c2) in zip(pts, pts[1:] + [pts[0]]):  # List slicing and zip operation (Time Complexity: O(n), where n is the length of the list)\n",
    "        total += abs(r1 - r2) + abs(c1 - c2)  # Simple arithmetic operations (Time Complexity: O(1))\n",
    "    return total  # Simple return (Time Complexity: O(1))\n",
    "    \n",
    "# https://en.wikipedia.org/wiki/Shoelace_formula\n",
    "def areaInternal(pts):\n",
    "    total = 0  # Simple assignment (Time Complexity: O(1))\n",
    "    for (r1,c1), (r2,c2) in zip(pts, pts[1:] + [pts[0]]):  # List slicing and zip operation (Time Complexity: O(n), where n is the length of the list)\n",
    "        total += (r1 + r2) * (c1 - c2)  # Simple arithmetic operations (Time Complexity: O(1))\n",
    "    return total // 2  # Simple arithmetic operations (Time Complexity: O(1))"
   ]
  },
  {
   "cell_type": "code",
   "execution_count": 3,
   "id": "e4ee2fc2-3132-40ba-8100-4346b584c2cf",
   "metadata": {},
   "outputs": [
    {
     "name": "stdout",
     "output_type": "stream",
     "text": [
      "53844\n"
     ]
    }
   ],
   "source": [
    "# Part One\n",
    "\n",
    "pts = [(0,0)]  # List initialization (Time Complexity: O(1))\n",
    "r, c = 0, 0  # Simple assignments (Time Complexity: O(1))\n",
    "dirMap = {\"U\":(0,1), \"D\": (0,-1), \"L\":(-1,0), \"R\":(1,0)}  # Dictionary initialization (Time Complexity: O(1))\n",
    "\n",
    "for line in lines:\n",
    "    d, s, _ = line.split()  # String splitting (Time Complexity: O(m), where m is the length of the string)\n",
    "    dr, dc = dirMap[d]  # Dictionary lookup (Time Complexity: O(1))\n",
    "    s = int(s)  # Type conversion (Time Complexity: O(1))\n",
    "    r += dr * s  # Simple arithmetic operations (Time Complexity: O(1))\n",
    "    c += dc * s  # Simple arithmetic operations (Time Complexity: O(1))\n",
    "    pts.append((r, c))  # List appending (Time Complexity: O(1))\n",
    "\n",
    "# https://en.wikipedia.org/wiki/Pick%27s_theorem\n",
    "# A = i + b/2 + 1\n",
    "# i = A - b/2 + 1\n",
    "# i + b = A + b/2 + 1\n",
    "\n",
    "total = areaInternal(pts) + perimeter(pts)//2 + 1  # Simple arithmetic operations (Time Complexity: O(1))\n",
    "\n",
    "print(total)  # Simple print (Time Complexity: O(1))"
   ]
  },
  {
   "cell_type": "code",
   "execution_count": 4,
   "id": "aef0faeb-d2fc-4513-989b-1b39a714b9a6",
   "metadata": {},
   "outputs": [
    {
     "name": "stdout",
     "output_type": "stream",
     "text": [
      "42708339569950\n"
     ]
    }
   ],
   "source": [
    "# Part Two\n",
    "\n",
    "pts = [(0,0)]  # List initialization (Time Complexity: O(1))\n",
    "r, c = 0, 0  # Simple assignments (Time Complexity: O(1))\n",
    "dirMap = {\"U\": (0, 1), \"D\": (0, -1), \"L\": (-1, 0), \"R\": (1, 0)}  # Dictionary initialization (Time Complexity: O(1))\n",
    "\n",
    "for line in lines:\n",
    "    hexDigit = line.split()[-1].strip('#()')  # String splitting and stripping (Time Complexity: O(m), where m is the length of the string)\n",
    "    d, s = int(hexDigit[5]), int(hexDigit[:5], 16)  # Simple arithmetic operations and type conversion (Time Complexity: O(1))\n",
    "    dr, dc = dirMap[\"RDLU\"[d]]  # Dictionary lookup (Time Complexity: O(1))\n",
    "    s = int(s)  # Type conversion (Time Complexity: O(1))\n",
    "    r += dr * s  # Simple arithmetic operations (Time Complexity: O(1))\n",
    "    c += dc * s  # Simple arithmetic operations (Time Complexity: O(1))\n",
    "    pts.append((r, c))  # List appending (Time Complexity: O(1))\n",
    "\n",
    "total = areaInternal(pts) + perimeter(pts)//2 + 1  # Simple arithmetic operations (Time Complexity: O(1))\n",
    "\n",
    "print(total)  # Simple print (Time Complexity: O(1))"
   ]
  },
  {
   "cell_type": "markdown",
   "id": "01959956-7c4d-49a8-96fa-56876982fa7a",
   "metadata": {},
   "source": [
    "The dominant term is the loop that iterates over the lines. Therefore, the overall time complexity is O(N), where N is the number of lines in the input."
   ]
  }
 ],
 "metadata": {
  "kernelspec": {
   "display_name": "anaconda-panel-2023.05-py310",
   "language": "python",
   "name": "conda-env-anaconda-panel-2023.05-py310-py"
  },
  "language_info": {
   "codemirror_mode": {
    "name": "ipython",
    "version": 3
   },
   "file_extension": ".py",
   "mimetype": "text/x-python",
   "name": "python",
   "nbconvert_exporter": "python",
   "pygments_lexer": "ipython3",
   "version": "3.11.5"
  }
 },
 "nbformat": 4,
 "nbformat_minor": 5
}
