{
 "cells": [
  {
   "cell_type": "markdown",
   "id": "c6ce5359-8938-48d2-8dd0-a40b84a04000",
   "metadata": {},
   "source": [
    "# Day 2: Cube Conundrum "
   ]
  },
  {
   "cell_type": "code",
   "execution_count": 2,
   "id": "18e501fa-b55c-4e5e-8eb2-7e32c8621fb4",
   "metadata": {},
   "outputs": [],
   "source": [
    "with open('day02_data.txt', 'r') as file:\n",
    "    games = file.read()\n",
    "\n",
    "lines = games.splitlines()"
   ]
  },
  {
   "cell_type": "code",
   "execution_count": 3,
   "id": "3ff2d392-71a4-4409-9f8b-2112221e0400",
   "metadata": {},
   "outputs": [
    {
     "name": "stdout",
     "output_type": "stream",
     "text": [
      "2776\n"
     ]
    }
   ],
   "source": [
    "# Part One\n",
    "\n",
    "total = 0\n",
    "for idx, line in enumerate(lines): \n",
    "    outcome = line.split(\": \")[1]  # Splitting a string (Time Complexity: O(m), where m is the length of the string)\n",
    "    groups = outcome.split(\"; \")   # Splitting a string (Time Complexity: O(n), where n is the number of groups)\n",
    "\n",
    "    for group in groups:\n",
    "        map = {\"red\": 0, \"green\": 0, \"blue\": 0}  # Creating a dictionary (Time Complexity: O(1))\n",
    "\n",
    "        for cubes in group.split(\", \"):\n",
    "            number, color = cubes.split()  # Splitting a string (Time Complexity: O(m), where m is the length of the string)\n",
    "            map[color] = int(number)  # Updating a dictionary (Time Complexity: O(1))\n",
    "\n",
    "        if map[\"red\"] > 12 or map[\"green\"] > 13 or map[\"blue\"] > 14:  # Simple comparisons (Time Complexity: O(1))\n",
    "            break\n",
    "\n",
    "    else:\n",
    "        total += idx + 1  # idx starts from 0 (Time Complexity: O(1))\n",
    "        \n",
    "print(total)"
   ]
  },
  {
   "cell_type": "code",
   "execution_count": 4,
   "id": "6c8d8312-a7ee-4d4b-b4c3-4c7767569835",
   "metadata": {},
   "outputs": [
    {
     "name": "stdout",
     "output_type": "stream",
     "text": [
      "68638\n"
     ]
    }
   ],
   "source": [
    "# Part Two\n",
    "\n",
    "total = 0  # Initialize the total product\n",
    "for line in lines:\n",
    "    outcome = line.split(\": \")[1]  # Splitting a string (Time Complexity: O(m), where m is the length of the string)\n",
    "    groups = outcome.split(\"; \")   # Splitting a string (Time Complexity: O(n), where n is the number of groups)\n",
    "\n",
    "    totalMap = {\"red\": 0, \"green\": 0, \"blue\": 0}  # Creating a dictionary (Time Complexity: O(1))\n",
    "    for group in groups:\n",
    "        map = {\"red\": 0, \"green\": 0, \"blue\": 0}  # Creating a dictionary (Time Complexity: O(1))\n",
    "\n",
    "        for cubes in group.split(\", \"):\n",
    "            number, color = cubes.split()  # Splitting a string (Time Complexity: O(m), where m is the length of the string)\n",
    "            map[color] = int(number)  # Updating a dictionary (Time Complexity: O(1))\n",
    "\n",
    "        for key in totalMap:\n",
    "            totalMap[key] = max(totalMap[key], map[key])  # Simple comparisons and updates (Time Complexity: O(1))\n",
    "\n",
    "    total += totalMap[\"red\"] * totalMap[\"green\"] * totalMap[\"blue\"]  # Simple arithmetic operations (Time Complexity: O(1))\n",
    "    \n",
    "print(total)"
   ]
  },
  {
   "cell_type": "markdown",
   "id": "3ce76a5a-26e7-4080-8eea-0dd476a6a77d",
   "metadata": {},
   "source": [
    "The dominant term is the loop over lines in both Part One and Part Two. Therefore, the overall time complexity is O(m * n), where m is the number of lines and n is the average length of the lines."
   ]
  },
  {
   "cell_type": "code",
   "execution_count": 11,
   "id": "e001b222-328f-4125-82bc-df816bdd0ee0",
   "metadata": {},
   "outputs": [
    {
     "name": "stdout",
     "output_type": "stream",
     "text": [
      "48\n"
     ]
    }
   ],
   "source": [
    "# Part Two trial \n",
    "\n",
    "str_list = [\n",
    "    'Game 1: 3 blue, 4 red; 1 red, 2 green, 6 blue; 2 green'\n",
    "    #'Game 2: 1 blue, 2 green; 3 green, 4 blue, 1 red; 1 green, 1 blue',\n",
    "    #'Game 3: 8 green, 6 blue, 20 red; 5 blue, 4 red, 13 green; 5 green, 1 red',\n",
    "    #'Game 4: 1 green, 3 red, 6 blue; 3 green, 6 red; 3 green, 15 blue, 14 red',\n",
    "    #'Game 5: 6 red, 1 blue, 3 green; 2 blue, 1 red, 2 green'\n",
    "]\n",
    "\n",
    "total = 0  # Initialize the total product\n",
    "for line in str_list:\n",
    "    outcome = line.split(\": \")[1]\n",
    "    groups = outcome.split(\"; \")\n",
    "    \n",
    "    totalMap = {\"red\": 0, \"green\": 0, \"blue\": 0}  # Track maximum numbers for each color\n",
    "    for group in groups:\n",
    "        map = {\"red\":0, \"green\":0, \"blue\":0}\n",
    "        \n",
    "        for cubes in group.split(\", \"):\n",
    "            number, color = cubes.split()\n",
    "            map[color] = int(number)\n",
    "            \n",
    "        for key in totalMap:\n",
    "            totalMap[key] = max(totalMap[key], map[key])       \n",
    "            \n",
    "    total += totalMap[\"red\"] * totalMap[\"green\"] * totalMap[\"blue\"]\n",
    "    \n",
    "print(total)\n"
   ]
  }
 ],
 "metadata": {
  "kernelspec": {
   "display_name": "anaconda-panel-2023.05-py310",
   "language": "python",
   "name": "conda-env-anaconda-panel-2023.05-py310-py"
  },
  "language_info": {
   "codemirror_mode": {
    "name": "ipython",
    "version": 3
   },
   "file_extension": ".py",
   "mimetype": "text/x-python",
   "name": "python",
   "nbconvert_exporter": "python",
   "pygments_lexer": "ipython3",
   "version": "3.11.5"
  }
 },
 "nbformat": 4,
 "nbformat_minor": 5
}
