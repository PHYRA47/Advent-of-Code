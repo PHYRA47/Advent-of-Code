{
 "cells": [
  {
   "cell_type": "markdown",
   "id": "fae9bde5-9510-4f01-b5d4-b9e612ca435e",
   "metadata": {},
   "source": [
    "# Day 4: Scratchcards"
   ]
  },
  {
   "cell_type": "code",
   "execution_count": 2,
   "id": "a8ec7bb6-adb0-4ada-8245-1f22a394f450",
   "metadata": {},
   "outputs": [],
   "source": [
    "with open('day04_data.txt', 'r') as file:\n",
    "    games = file.read()\n",
    "\n",
    "lines = games.splitlines()"
   ]
  },
  {
   "cell_type": "code",
   "execution_count": 4,
   "id": "f98df4e5-4365-4744-b307-d01004deca9f",
   "metadata": {},
   "outputs": [
    {
     "name": "stdout",
     "output_type": "stream",
     "text": [
      "23847\n"
     ]
    }
   ],
   "source": [
    "# Part One\n",
    "\n",
    "total = 0\n",
    "for line in lines:\n",
    "    number = line.split(\": \")[1]         # Splitting a string (Time Complexity: O(m), where m is the length of the string)\n",
    "    winNum, myNum = number.split(\" | \")  # Splitting a string (Time Complexity: O(m), where m is the length of the string)\n",
    "\n",
    "    myNum = [int(num) for num in myNum.split()]  # List comprehension (Time Complexity: O(n), where n is the number of elements in myNum)\n",
    "    winNum = [int(num) for num in winNum.split()]  # List comprehension (Time Complexity: O(n), where n is the number of elements in winNum)\n",
    "\n",
    "    numWinNum = 0\n",
    "    for num in myNum:\n",
    "        if num in winNum:\n",
    "            numWinNum += 1  # Simple arithmetic operations (Time Complexity: O(1))\n",
    "\n",
    "    if numWinNum > 0:\n",
    "        total += 2 ** (numWinNum - 1)  # Simple arithmetic operations (Time Complexity: O(1))\n",
    "\n",
    "print(total)"
   ]
  },
  {
   "cell_type": "code",
   "execution_count": 6,
   "id": "5a0fcbbd-9f18-4782-89b7-2288bf18fec4",
   "metadata": {},
   "outputs": [
    {
     "name": "stdout",
     "output_type": "stream",
     "text": [
      "8570000\n"
     ]
    }
   ],
   "source": [
    "# Part Two\n",
    "\n",
    "map = {}\n",
    "for i, line in enumerate(lines):\n",
    "    if i not in map:\n",
    "        map[i] = 1  # Adding elements to a dictionary (Time Complexity: O(1))\n",
    "\n",
    "    number = line.split(\": \")[1]  # Splitting a string (Time Complexity: O(m), where m is the length of the string)\n",
    "    winNum, myNum = number.split(\" | \")  # Splitting a string (Time Complexity: O(m), where m is the length of the string)\n",
    "\n",
    "    myNum = [int(num) for num in myNum.split()]  # List comprehension (Time Complexity: O(n), where n is the number of elements in myNum)\n",
    "    winNum = [int(num) for num in winNum.split()]  # List comprehension (Time Complexity: O(n), where n is the number of elements in winNum)\n",
    "\n",
    "    numWinNum = 0\n",
    "    for num in myNum:\n",
    "        if num in winNum:\n",
    "            numWinNum += 1  # Simple arithmetic operations (Time Complexity: O(1))\n",
    "\n",
    "    for n in range(i + 1, i + numWinNum + 1):\n",
    "        map[n] = map.get(n, 1) + map[i]  # Dictionary operations (Time Complexity: O(1))\n",
    "\n",
    "print(sum(map.values()))  # Summing elements in a dictionary (Time Complexity: O(m), where m is the number of elements in the dictionary)"
   ]
  },
  {
   "cell_type": "markdown",
   "id": "53e7b638-e037-4cfa-adfe-843820c1fb89",
   "metadata": {},
   "source": [
    "The dominant term is the loop over lines in both Part One and Part Two. Therefore, the overall time complexity is O(m * n), where m is the number of lines and n is the average number of elements in each line."
   ]
  }
 ],
 "metadata": {
  "kernelspec": {
   "display_name": "anaconda-panel-2023.05-py310",
   "language": "python",
   "name": "conda-env-anaconda-panel-2023.05-py310-py"
  },
  "language_info": {
   "codemirror_mode": {
    "name": "ipython",
    "version": 3
   },
   "file_extension": ".py",
   "mimetype": "text/x-python",
   "name": "python",
   "nbconvert_exporter": "python",
   "pygments_lexer": "ipython3",
   "version": "3.11.5"
  }
 },
 "nbformat": 4,
 "nbformat_minor": 5
}
