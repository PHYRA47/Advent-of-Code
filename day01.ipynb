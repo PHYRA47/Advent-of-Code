{
 "cells": [
  {
   "cell_type": "markdown",
   "id": "5fe88ac1-9579-4f63-9220-eb16b3226e5f",
   "metadata": {},
   "source": [
    "# Day 1: Trebuchet?!"
   ]
  },
  {
   "cell_type": "code",
   "execution_count": 2,
   "id": "e53c16f7-7625-4a89-a2f7-79e757d06036",
   "metadata": {},
   "outputs": [],
   "source": [
    "with open('day01_data.txt', 'r') as file:\n",
    "    calibDoc = file.read()\n",
    "\n",
    "lines = calibDoc.splitlines()"
   ]
  },
  {
   "cell_type": "code",
   "execution_count": 3,
   "id": "4ef4a9db-31b7-4759-bfb5-b8e875bbdc30",
   "metadata": {},
   "outputs": [
    {
     "name": "stdout",
     "output_type": "stream",
     "text": [
      "55477\n"
     ]
    }
   ],
   "source": [
    "# Part One\n",
    "\n",
    "sumOfCalibVal = 0\n",
    "for line in lines:\n",
    "    charList = list(line)  # Convert string to list of characters (Time Complexity: O(m), where m is the length of the line)\n",
    "    digitStr = ''\n",
    "    for char in charList:\n",
    "        if char.isdigit():\n",
    "            digitStr += char  # Building a string of digits (Time Complexity: O(1))\n",
    "    if len(digitStr) == 1:\n",
    "        digitStr = digitStr*2  # String repetition (Time Complexity: O(1))\n",
    "    else:\n",
    "        digitStr = digitStr[0] + digitStr[-1]  # String concatenation (Time Complexity: O(1))\n",
    "    calibVal = int(digitStr)  # Converting string to integer (Time Complexity: O(d), where d is the length of the digitStr)\n",
    "    \n",
    "    sumOfCalibVal += calibVal  # Accumulating total (Time Complexity: O(1))\n",
    "    \n",
    "print(sumOfCalibVal)"
   ]
  },
  {
   "cell_type": "code",
   "execution_count": 4,
   "id": "a5317244-60ac-46f3-aeae-9de73ef563fe",
   "metadata": {},
   "outputs": [
    {
     "name": "stdout",
     "output_type": "stream",
     "text": [
      "54431\n"
     ]
    }
   ],
   "source": [
    "# Part Two\n",
    "\n",
    "numbers_in_words = ['one','two','three','four','five','six','seven','eight','nine']\n",
    "numbers_in_digit = ['1', '2', '3', '4', '5', '6', '7', '8', '9']\n",
    "\n",
    "sumOfCalibVal = 0\n",
    "for line in lines:\n",
    "    substrings = []\n",
    "    for num in numbers_in_words + numbers_in_digit:\n",
    "        index = 0\n",
    "        while index != -1:\n",
    "            index = line.find(num, index)  # Searching for a substring (Time Complexity: O(n * m), where n is the number of substrings and m is the length of the line)\n",
    "            if index != -1:\n",
    "                substrings.append((num, index))\n",
    "                index += 1\n",
    "                \n",
    "    substrings_sorted = []\n",
    "    for substring, _ in sorted(substrings, key=lambda x: x[1]):  # Sorting a list of substrings (Time Complexity: O(n * log(n)), where n is the number of substrings)\n",
    "        substrings_sorted.append(substring)\n",
    "        \n",
    "    numbers_list = [numbers_in_digit[numbers_in_words.index(sub)] if sub in numbers_in_words else sub for sub in substrings_sorted]  # List comprehension (Time Complexity: O(n * m), where n is the number of substrings and m is the length of the line)\n",
    "\n",
    "    digitStr = numbers_list[0] + numbers_list[-1]  # String concatenation (Time Complexity: O(1))\n",
    "    calibVal = int(digitStr)  # Converting string to integer (Time Complexity: O(d), where d is the length of the digitStr)\n",
    "    sumOfCalibVal += calibVal  # Accumulating total (Time Complexity: O(1))\n",
    "    \n",
    "print(sumOfCalibVal)"
   ]
  },
  {
   "cell_type": "markdown",
   "id": "561e3493-1cd7-4161-913e-7d50f5b90cae",
   "metadata": {},
   "source": [
    "The dominant term is the loop over lines in both Part One and Part Two. Therefore, the overall time complexity is O(m * n), where m is the number of lines and n is the average length of the lines."
   ]
  },
  {
   "cell_type": "code",
   "execution_count": 6,
   "id": "56f5e802-7669-4e15-b5c2-18ea3bb2b26b",
   "metadata": {},
   "outputs": [
    {
     "name": "stdout",
     "output_type": "stream",
     "text": [
      "54909\n"
     ]
    }
   ],
   "source": [
    "# Part two (wrong)\n",
    "numbers_in_words = ['one','two','three','four','five','six','seven','eight','nine']\n",
    "numbers_in_digit = ['1', '2', '3', '4', '5', '6', '7', '8', '9']\n",
    "word_digit_dict = dict(zip(numbers_in_words, numbers_in_digit))\n",
    "\n",
    "sumOfCalibVal = 0\n",
    "for line in lines:\n",
    "    for word, digit in sorted(word_digit_dict.items()):\n",
    "        line = line.replace(word, digit)\n",
    "    charList = list(line)\n",
    "    digitStr = ''\n",
    "    for char in charList:\n",
    "        if char.isdigit():\n",
    "            digitStr += char\n",
    "    if len(digitStr) == 1:\n",
    "        digitStr = digitStr*2\n",
    "    else:\n",
    "        digitStr = digitStr[0] + digitStr[-1]\n",
    "    calibVal = int(digitStr)\n",
    "    \n",
    "    sumOfCalibVal += calibVal\n",
    "    \n",
    "print(sumOfCalibVal)   "
   ]
  }
 ],
 "metadata": {
  "kernelspec": {
   "display_name": "anaconda-panel-2023.05-py310",
   "language": "python",
   "name": "conda-env-anaconda-panel-2023.05-py310-py"
  },
  "language_info": {
   "codemirror_mode": {
    "name": "ipython",
    "version": 3
   },
   "file_extension": ".py",
   "mimetype": "text/x-python",
   "name": "python",
   "nbconvert_exporter": "python",
   "pygments_lexer": "ipython3",
   "version": "3.11.5"
  }
 },
 "nbformat": 4,
 "nbformat_minor": 5
}
