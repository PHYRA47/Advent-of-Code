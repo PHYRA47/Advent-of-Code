{
 "cells": [
  {
   "cell_type": "markdown",
   "id": "ed992fbf-58dc-48b7-8201-f5504b4bdbd5",
   "metadata": {},
   "source": [
    "# Day 12: Hot Springs"
   ]
  },
  {
   "cell_type": "code",
   "execution_count": 3,
   "id": "a5b57348-1903-4640-bcb8-3c676493750d",
   "metadata": {},
   "outputs": [],
   "source": [
    "with open('day12_data.txt', 'r') as file: \n",
    "    grid = file.read()\n",
    "lines = grid.splitlines()"
   ]
  },
  {
   "cell_type": "code",
   "execution_count": 4,
   "id": "a8c0c561-1ae9-4c43-ab63-2caed8ee667b",
   "metadata": {},
   "outputs": [],
   "source": [
    "from functools import cache\n",
    "\n",
    "@cache\n",
    "def combinations(springs, nums):\n",
    "    total = 0  # Simple assignment (Time Complexity: O(1))\n",
    "\n",
    "    # Base case: if springs is empty, there is only one combination if nums is also empty\n",
    "    if len(springs) == 0:\n",
    "        if len(nums) == 0:\n",
    "            return 1  # Simple return (Time Complexity: O(1))\n",
    "        else:\n",
    "            return 0  # Simple return (Time Complexity: O(1))\n",
    "\n",
    "    # Base case: if nums is empty, return 1 if there are no '#' in springs, else 0\n",
    "    if len(nums) == 0:\n",
    "        if \"#\" in springs:\n",
    "            return 0  # Simple return (Time Complexity: O(1))\n",
    "        else:\n",
    "            return 1  # Simple return (Time Complexity: O(1))\n",
    "\n",
    "    # Check if there are enough characters in springs for the sum of nums and separators\n",
    "    if len(springs) < sum(nums) + len(nums) - 1:\n",
    "        return 0  # Simple return (Time Complexity: O(1))\n",
    "\n",
    "    # Check the first character of springs\n",
    "    if springs[0] in \".?\":\n",
    "        # Recursively count combinations for the remaining springs and nums\n",
    "        total += combinations(springs[1:], nums)  # Recursive call (Time Complexity: O(2^n), where n is the length of springs)\n",
    "\n",
    "    # Check the first character of nums\n",
    "    n = nums[0]\n",
    "    if springs[0] in \"#?\" and \".\" not in springs[:n] and (len(springs) == n or springs[n] in \".?\"):\n",
    "        # Conditions for a valid combination\n",
    "        total += combinations(springs[n + 1:], nums[1:])  # Recursive call (Time Complexity: O(2^n), where n is the length of springs)\n",
    "\n",
    "    return total  # Simple return (Time Complexity: O(1))"
   ]
  },
  {
   "cell_type": "code",
   "execution_count": 5,
   "id": "53c2872b-1145-46f4-9b52-d5d741c50617",
   "metadata": {},
   "outputs": [
    {
     "name": "stdout",
     "output_type": "stream",
     "text": [
      "5\n"
     ]
    }
   ],
   "source": [
    "# Part One\n",
    "\n",
    "total = 0  # Simple assignment (Time Complexity: O(1))\n",
    "\n",
    "for line in lines[0:2]:\n",
    "    springs, nums = line.split()\n",
    "    nums = tuple(int(n) for n in nums.split(','))  # List comprehension (Time Complexity: O(m), where m is the length of the list)\n",
    "    total += combinations(springs, nums)  # Calling the 'combinations' function (Time Complexity: O(2^n), where n is the length of springs)\n",
    "\n",
    "print(total)  # Simple print (Time Complexity: O(1))"
   ]
  },
  {
   "cell_type": "code",
   "execution_count": 6,
   "id": "5d4b9aa7-cb5c-4950-aaac-08aba4e8691c",
   "metadata": {},
   "outputs": [
    {
     "name": "stdout",
     "output_type": "stream",
     "text": [
      "50338344809230\n"
     ]
    }
   ],
   "source": [
    "# Part Two\n",
    "\n",
    "total = 0  # Simple assignment (Time Complexity: O(1))\n",
    "\n",
    "for line in lines:\n",
    "    springs, nums = line.split()\n",
    "\n",
    "    springs = \"?\".join([springs] * 5)  # List concatenation and join operation (Time Complexity: O(5m), where m is the length of the list)\n",
    "    nums = tuple(int(n) for n in nums.split(',')) * 5  # List comprehension and multiplication (Time Complexity: O(5m), where m is the length of the list)\n",
    "    total += combinations(springs, nums)  # Calling the 'combinations' function (Time Complexity: O(2^n), where n is the length of springs)\n",
    "\n",
    "print(total)  # Simple print (Time Complexity: O(1))"
   ]
  },
  {
   "cell_type": "markdown",
   "id": "af06bc5c-b7c5-43aa-9961-28968b21ec8a",
   "metadata": {},
   "source": [
    "The __combinations__ function has an exponential time complexity of O(2^n), where n is the length of the springs string. This is because the function uses recursion with memoization (@cache decorator), and in the worst case, it explores all possible combinations of characters in the springs string.\n",
    "\n",
    "The key factor contributing to the exponential time complexity is the recursive nature of the function. Each recursive call branches into two possibilities, leading to an exponential growth in the number of function calls.\n",
    "\n",
    "While the memoization with the @cache decorator helps to avoid redundant computations and improves the function's performance by storing the results of previous calls, it does not alter the overall exponential time complexity. The worst-case time complexity is still exponential due to the nature of the recursive exploration of combinations.\n",
    "\n",
    "If a problem has a __polynomial-time__ algorithm, it is considered to be in the complexity class P. On the other hand, if a problem has an exponential time complexity, like O(2^n), it is not in P. These problems are considered to be in the class EXPTIME (Exponential Time), which is a subset of the larger class known as NP (Nondeterministic Polynomial time).\n",
    "\n",
    "While being in NP doesn't imply that a problem is inherently difficult or hard to solve, it does imply that, given a solution, we can verify its correctness in polynomial time. However, for problems in EXPTIME, the verification process could potentially take an exponential amount of time.\n",
    "\n",
    "Given that the __combinations__ function has an exponential time complexity, it is not in **P** and is considered to be in **NP**.\n"
   ]
  }
 ],
 "metadata": {
  "kernelspec": {
   "display_name": "anaconda-panel-2023.05-py310",
   "language": "python",
   "name": "conda-env-anaconda-panel-2023.05-py310-py"
  },
  "language_info": {
   "codemirror_mode": {
    "name": "ipython",
    "version": 3
   },
   "file_extension": ".py",
   "mimetype": "text/x-python",
   "name": "python",
   "nbconvert_exporter": "python",
   "pygments_lexer": "ipython3",
   "version": "3.11.5"
  }
 },
 "nbformat": 4,
 "nbformat_minor": 5
}
