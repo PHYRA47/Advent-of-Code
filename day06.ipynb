{
 "cells": [
  {
   "cell_type": "markdown",
   "id": "21c785df-bc4e-4bde-a40a-5fce5bbf822f",
   "metadata": {},
   "source": [
    "# Day 6: Wait For It"
   ]
  },
  {
   "cell_type": "code",
   "execution_count": 7,
   "id": "022b9627-eb33-4cbb-88d5-b276b531d2dc",
   "metadata": {},
   "outputs": [],
   "source": [
    "with open('day6_data.txt', 'r') as file:\n",
    "    lines = file.read()\n",
    "\n",
    "lines = lines.splitlines()"
   ]
  },
  {
   "cell_type": "code",
   "execution_count": 29,
   "id": "e0c0a435-2469-454d-ae35-7f2938b3f343",
   "metadata": {},
   "outputs": [
    {
     "name": "stdout",
     "output_type": "stream",
     "text": [
      "2756160\n"
     ]
    }
   ],
   "source": [
    "# Part One\n",
    "\n",
    "times = [int(num) for num in lines[0].split(\": \")[1].split()]  # List comprehension (Time Complexity: O(n), where n is the number of elements in the list)\n",
    "distances = [int(num) for num in lines[1].split(\": \")[1].split()]  # List comprehension (Time Complexity: O(m), where m is the number of elements in the list)\n",
    "\n",
    "n = 1\n",
    "for time, distance in zip(times, distances):\n",
    "    margin = 0\n",
    "    for hold in range(time):\n",
    "        if hold * (time - hold) > distance:  # Simple arithmetic operations (Time Complexity: O(1))\n",
    "            margin += 1  # Simple arithmetic operations (Time Complexity: O(1))\n",
    "    n *= margin  # Simple arithmetic operations (Time Complexity: O(1))\n",
    "\n",
    "print(n)"
   ]
  },
  {
   "cell_type": "code",
   "execution_count": 53,
   "id": "cbddd01d-fabd-4615-aeca-b2a47282965e",
   "metadata": {},
   "outputs": [
    {
     "name": "stdout",
     "output_type": "stream",
     "text": [
      "34788142\n"
     ]
    }
   ],
   "source": [
    "# Part Two\n",
    "\n",
    "# times = lines[0].split(\": \")[1].split()\n",
    "# times = \"\".join(times)\n",
    "# times = [int(times)]\n",
    "\n",
    "times = [int(\"\".join(lines[0].split(\": \")[1].split()))]  # List comprehension and string manipulation (Time Complexity: O(n), where n is the number of characters in the string)\n",
    "distances = [int(\"\".join(lines[1].split(\": \")[1].split()))]  # List comprehension and string manipulation (Time Complexity: O(m), where m is the number of characters in the string)\n",
    "\n",
    "n = 1\n",
    "for time, distance in zip(times, distances):\n",
    "    margin = 0\n",
    "    for hold in range(time):\n",
    "        if hold * (time - hold) > distance:  # Simple arithmetic operations (Time Complexity: O(1))\n",
    "            margin += 1  # Simple arithmetic operations (Time Complexity: O(1))\n",
    "    n *= margin  # Simple arithmetic operations (Time Complexity: O(1))\n",
    "\n",
    "print(n)"
   ]
  },
  {
   "cell_type": "markdown",
   "id": "36cae34f-9957-4b18-8ee9-3f7657275bc2",
   "metadata": {},
   "source": [
    "The dominant term is the nested loops in both Part One and Part Two. Therefore, the overall time complexity is O(n * m), where n is the number of elements in times and m is the number of elements in distances."
   ]
  }
 ],
 "metadata": {
  "kernelspec": {
   "display_name": "anaconda-panel-2023.05-py310",
   "language": "python",
   "name": "conda-env-anaconda-panel-2023.05-py310-py"
  },
  "language_info": {
   "codemirror_mode": {
    "name": "ipython",
    "version": 3
   },
   "file_extension": ".py",
   "mimetype": "text/x-python",
   "name": "python",
   "nbconvert_exporter": "python",
   "pygments_lexer": "ipython3",
   "version": "3.11.5"
  }
 },
 "nbformat": 4,
 "nbformat_minor": 5
}
