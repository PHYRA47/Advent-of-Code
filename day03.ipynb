{
 "cells": [
  {
   "cell_type": "markdown",
   "id": "8ae1213b-206a-4b7a-80f3-d099ddc277cb",
   "metadata": {},
   "source": [
    "# Day 3: Gear Ratios"
   ]
  },
  {
   "cell_type": "code",
   "execution_count": 2,
   "id": "6aaf6540-2a80-43ba-b747-6408219f95ef",
   "metadata": {},
   "outputs": [],
   "source": [
    "with open('day03_data.txt', 'r') as file:\n",
    "    grid = file.read()\n",
    "\n",
    "lines = grid.splitlines()"
   ]
  },
  {
   "cell_type": "code",
   "execution_count": 3,
   "id": "9131c597-f761-46cd-90e6-15b0b94de2f2",
   "metadata": {},
   "outputs": [
    {
     "name": "stdout",
     "output_type": "stream",
     "text": [
      "509115\n"
     ]
    }
   ],
   "source": [
    "# Part One\n",
    "\n",
    "cs = set()\n",
    "\n",
    "for r, row in enumerate(lines):\n",
    "    for c, ch in enumerate(row):\n",
    "        if ch.isdigit() or ch == \".\":\n",
    "            continue\n",
    "        for cr in [r - 1, r, r + 1]:\n",
    "            for cc in [c - 1, c, c + 1]:\n",
    "                if cr < 0 or cr >= len(lines) or cc < 0 or cc >= len(lines[cr]) or not lines[cr][cc].isdigit():\n",
    "                    continue\n",
    "                while cc > 0 and lines[cr][cc - 1].isdigit():\n",
    "                    cc -= 1\n",
    "                cs.add((cr, cc))  # Adding elements to a set (Time Complexity: O(1))\n",
    "ns = []\n",
    "\n",
    "for r, c in cs:\n",
    "    s = \"\"\n",
    "    while c < len(lines[r]) and lines[r][c].isdigit():\n",
    "        s += lines[r][c]\n",
    "        c += 1\n",
    "    ns.append(int(s))  # Converting string to integer (Time Complexity: O(p), where p is the length of the number string)\n",
    "print(sum(ns))  # Summing elements in a list (Time Complexity: O(m), where m is the length of the list)"
   ]
  },
  {
   "cell_type": "code",
   "execution_count": 4,
   "id": "9e43eb28-f015-4200-9579-b1e93a4edc3e",
   "metadata": {},
   "outputs": [
    {
     "name": "stdout",
     "output_type": "stream",
     "text": [
      "75220503\n"
     ]
    }
   ],
   "source": [
    "# Part Two\n",
    "\n",
    "total = 0\n",
    "\n",
    "for r, row in enumerate(lines):\n",
    "    for c, ch in enumerate(row):\n",
    "        if ch != \"*\":\n",
    "            continue\n",
    "                \n",
    "        cs = set()\n",
    "        \n",
    "        for cr in [r - 1, r, r + 1]:\n",
    "            for cc in [c - 1, c, c + 1]:\n",
    "                if cr < 0 or cr >= len(lines) or cc < 0 or cc >= len(lines[cr]) or not lines[cr][cc].isdigit():\n",
    "                    continue\n",
    "        \n",
    "                while cc > 0 and lines[cr][cc - 1].isdigit():\n",
    "                    cc -= 1\n",
    "                cs.add((cr, cc))  # Adding elements to a set (Time Complexity: O(1))\n",
    "                \n",
    "        if len(cs) != 2:\n",
    "            continue\n",
    "        \n",
    "        ns = []\n",
    "\n",
    "        for cr, cc in cs:\n",
    "            s = \"\"\n",
    "            while cc < len(lines[cr]) and lines[cr][cc].isdigit():\n",
    "                s += lines[cr][cc]\n",
    "                cc += 1\n",
    "            ns.append(int(s))  # Converting string to integer (Time Complexity: O(p), where p is the length of the number string)\n",
    "        total += ns[0] * ns[1]  # Simple arithmetic operations (Time Complexity: O(1))\n",
    "        \n",
    "print(total)  # Printing the result (Time Complexity: O(1))"
   ]
  },
  {
   "cell_type": "markdown",
   "id": "6a7fa70d-acd8-429c-949c-84cdff90f26b",
   "metadata": {},
   "source": [
    "The dominant term is the nested loops in both Part One and Part Two. Therefore, the overall time complexity is O(m * n * p), where m is the number of rows, n is the average number of columns in each row, and p is the maximum length of the numbers in the grid."
   ]
  }
 ],
 "metadata": {
  "kernelspec": {
   "display_name": "anaconda-panel-2023.05-py310",
   "language": "python",
   "name": "conda-env-anaconda-panel-2023.05-py310-py"
  },
  "language_info": {
   "codemirror_mode": {
    "name": "ipython",
    "version": 3
   },
   "file_extension": ".py",
   "mimetype": "text/x-python",
   "name": "python",
   "nbconvert_exporter": "python",
   "pygments_lexer": "ipython3",
   "version": "3.11.5"
  }
 },
 "nbformat": 4,
 "nbformat_minor": 5
}
