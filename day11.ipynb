{
 "cells": [
  {
   "cell_type": "markdown",
   "id": "bb1de415-2489-49b7-8e03-ccb307aa130b",
   "metadata": {},
   "source": [
    "# Day 11: Cosmic Expansion"
   ]
  },
  {
   "cell_type": "code",
   "execution_count": 2,
   "id": "d3dda02e-2319-4f07-992f-3f50e3bf8547",
   "metadata": {},
   "outputs": [],
   "source": [
    "with open('day11_data.txt', 'r') as file:\n",
    "    grid = file.read()\n",
    "\n",
    "lines = grid.splitlines()"
   ]
  },
  {
   "cell_type": "code",
   "execution_count": 3,
   "id": "99ee83bc-7ad9-4e86-894f-7e18b5f58e0b",
   "metadata": {},
   "outputs": [
    {
     "name": "stdout",
     "output_type": "stream",
     "text": [
      "9543156\n"
     ]
    }
   ],
   "source": [
    "# Part One\n",
    "\n",
    "n, m = len(lines), len(lines[0])\n",
    "\n",
    "coords = []\n",
    "for i in range(n):\n",
    "    for j in range(m):\n",
    "        if lines[i][j] == \"#\":\n",
    "            coords.append((i, j))  # Appending elements to a list (Time Complexity: O(1))\n",
    "\n",
    "N = len(coords)\n",
    "\n",
    "empty_row = []\n",
    "for i in range(n):\n",
    "    row_empty = True\n",
    "    for j in range(m):\n",
    "        if lines[i][j] != \".\":\n",
    "            row_empty = False\n",
    "            break\n",
    "    empty_row.append(row_empty)  # Appending elements to a list (Time Complexity: O(1))\n",
    "\n",
    "empty_col = []\n",
    "for j in range(m):\n",
    "    col_empty = True\n",
    "    for i in range(n):\n",
    "        if lines[i][j] != \".\":\n",
    "            col_empty = False\n",
    "            break\n",
    "    empty_col.append(col_empty)  # Appending elements to a list (Time Complexity: O(1))\n",
    "\n",
    "def dist(a, b):\n",
    "    i1, j1 = a\n",
    "    i2, j2 = b\n",
    "\n",
    "    i1, i2 = min(i1, i2), max(i1, i2)\n",
    "    j1, j2 = min(j1, j2), max(j1, j2)\n",
    "\n",
    "    total = 0\n",
    "    for i in range(i1, i2):\n",
    "        total += 1  # Simple arithmetic operations (Time Complexity: O(1))\n",
    "        if empty_row[i]:\n",
    "            total += 1  # Simple arithmetic operations (Time Complexity: O(1))\n",
    "    for j in range(j1, j2):\n",
    "        total += 1  # Simple arithmetic operations (Time Complexity: O(1))\n",
    "        if empty_col[j]:\n",
    "            total += 1  # Simple arithmetic operations (Time Complexity: O(1))\n",
    "\n",
    "    return total\n",
    "\n",
    "total = 0\n",
    "for idx1 in range(N):\n",
    "    for idx2 in range(idx1+1, N):\n",
    "        d = dist(coords[idx1], coords[idx2])  # Calling the 'dist' function (Time Complexity: O(m), where m is the maximum distance between coords)\n",
    "        total += d  # Simple arithmetic operations (Time Complexity: O(1))\n",
    "\n",
    "print(total)"
   ]
  },
  {
   "cell_type": "code",
   "execution_count": 4,
   "id": "4c98b570-6f99-4d29-9ae9-ae4f36e6e308",
   "metadata": {},
   "outputs": [
    {
     "name": "stdout",
     "output_type": "stream",
     "text": [
      "625243292686\n"
     ]
    }
   ],
   "source": [
    "# Part Two\n",
    "\n",
    "n, m = len(lines), len(lines[0])\n",
    "\n",
    "coords = []\n",
    "for i in range(n):\n",
    "    for j in range(m):\n",
    "        if lines[i][j] == \"#\":\n",
    "            coords.append((i, j))  # Appending elements to a list (Time Complexity: O(1))\n",
    "\n",
    "N = len(coords)\n",
    "\n",
    "empty_row = []\n",
    "for i in range(n):\n",
    "    row_empty = True\n",
    "    for j in range(m):\n",
    "        if lines[i][j] != \".\":\n",
    "            row_empty = False\n",
    "            break\n",
    "    empty_row.append(row_empty)  # Appending elements to a list (Time Complexity: O(1))\n",
    "\n",
    "empty_col = []\n",
    "for j in range(m):\n",
    "    col_empty = True\n",
    "    for i in range(n):\n",
    "        if lines[i][j] != \".\":\n",
    "            col_empty = False\n",
    "            break\n",
    "    empty_col.append(col_empty)  # Appending elements to a list (Time Complexity: O(1))\n",
    "\n",
    "def dist(a, b):\n",
    "    i1, j1 = a\n",
    "    i2, j2 = b\n",
    "\n",
    "    i1, i2 = min(i1, i2), max(i1, i2)\n",
    "    j1, j2 = min(j1, j2), max(j1, j2)\n",
    "\n",
    "    total = 0\n",
    "    for i in range(i1, i2):\n",
    "        total += 1  # Simple arithmetic operations (Time Complexity: O(1))\n",
    "        if empty_row[i]:\n",
    "            total += 10**6 - 1  # Simple arithmetic operations (Time Complexity: O(1))\n",
    "    for j in range(j1, j2):\n",
    "        total += 1  # Simple arithmetic operations (Time Complexity: O(1))\n",
    "        if empty_col[j]:\n",
    "            total += 10**6 - 1  # Simple arithmetic operations (Time Complexity: O(1))\n",
    "\n",
    "    return total\n",
    "\n",
    "total = 0\n",
    "for idx1 in range(N):\n",
    "    for idx2 in range(idx1+1, N):\n",
    "        d = dist(coords[idx1], coords[idx2])  # Calling the 'dist' function (Time Complexity: O(m), where m is the maximum distance between coords)\n",
    "        total += d  # Simple arithmetic operations (Time Complexity: O(1))\n",
    "\n",
    "print(total)"
   ]
  },
  {
   "cell_type": "markdown",
   "id": "7d464e54-915e-4f96-8e78-1710bb6b1d79",
   "metadata": {},
   "source": [
    "The dominant term is the nested loops in both Part One and Part Two. Therefore, the overall time complexity is O(N^2 * m), where N is the number of elements in coords and m is the maximum distance between coords."
   ]
  }
 ],
 "metadata": {
  "kernelspec": {
   "display_name": "anaconda-panel-2023.05-py310",
   "language": "python",
   "name": "conda-env-anaconda-panel-2023.05-py310-py"
  },
  "language_info": {
   "codemirror_mode": {
    "name": "ipython",
    "version": 3
   },
   "file_extension": ".py",
   "mimetype": "text/x-python",
   "name": "python",
   "nbconvert_exporter": "python",
   "pygments_lexer": "ipython3",
   "version": "3.11.5"
  }
 },
 "nbformat": 4,
 "nbformat_minor": 5
}
