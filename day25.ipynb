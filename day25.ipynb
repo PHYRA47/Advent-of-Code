{
 "cells": [
  {
   "cell_type": "code",
   "execution_count": 2,
   "id": "49faf1e1-8f25-4c22-9163-f14f8f5c9505",
   "metadata": {},
   "outputs": [],
   "source": [
    "with open('day25_data.txt', 'r') as file: \n",
    "    lines = file.read()\n",
    "lines = lines.splitlines()"
   ]
  },
  {
   "cell_type": "code",
   "execution_count": 3,
   "id": "0ac79651-09f8-49ed-a934-64e03880c762",
   "metadata": {},
   "outputs": [
    {
     "name": "stdout",
     "output_type": "stream",
     "text": [
      "600225\n"
     ]
    }
   ],
   "source": [
    "import networkx as nx\n",
    "\n",
    "g = nx.Graph()\n",
    "\n",
    "for line in lines:\n",
    "    left, right = line.split(\":\")  # String splitting (Time Complexity: O(m), where m is the length of the string)\n",
    "    for node in right.strip().split():  # String splitting (Time Complexity: O(n), where n is the number of nodes)\n",
    "        g.add_edge(left, node)  # Adding an edge to the graph (Time Complexity: O(1))\n",
    "        g.add_edge(node, left)  # Adding an edge to the graph (Time Complexity: O(1))\n",
    "\n",
    "g.remove_edges_from(nx.minimum_edge_cut(g))  # Finding the minimum edge cut (Time Complexity: O(V^3), where V is the number of nodes in the graph)\n",
    "a, b = nx.connected_components(g)  # Finding connected components (Time Complexity: O(V + E), where V is the number of nodes and E is the number of edges)\n",
    "\n",
    "print(len(a) * len(b))  # Simple arithmetic operations (Time Complexity: O(1))\n"
   ]
  },
  {
   "cell_type": "markdown",
   "id": "8b6f66fb-99f2-422d-b6f2-9f770d098162",
   "metadata": {},
   "source": [
    "The dominant term is the nx.minimum_edge_cut(g) operation (based on the Stoer-Wagner algorithm). Therefore, the overall time complexity is O(V^3), where V is the number of nodes in the graph.\n"
   ]
  }
 ],
 "metadata": {
  "kernelspec": {
   "display_name": "anaconda-panel-2023.05-py310",
   "language": "python",
   "name": "conda-env-anaconda-panel-2023.05-py310-py"
  },
  "language_info": {
   "codemirror_mode": {
    "name": "ipython",
    "version": 3
   },
   "file_extension": ".py",
   "mimetype": "text/x-python",
   "name": "python",
   "nbconvert_exporter": "python",
   "pygments_lexer": "ipython3",
   "version": "3.11.5"
  }
 },
 "nbformat": 4,
 "nbformat_minor": 5
}
