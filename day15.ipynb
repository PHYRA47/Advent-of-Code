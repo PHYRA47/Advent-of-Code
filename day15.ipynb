{
 "cells": [
  {
   "cell_type": "markdown",
   "id": "2243b52d-458b-4491-b100-377989696f1a",
   "metadata": {},
   "source": [
    "# Day 15: Lens Library"
   ]
  },
  {
   "cell_type": "code",
   "execution_count": 1,
   "id": "4450c31f-cd25-46e7-ae6b-005307eb32a9",
   "metadata": {},
   "outputs": [],
   "source": [
    "with open('day15_data.txt', 'r') as file: \n",
    "    lensData = file.read()"
   ]
  },
  {
   "cell_type": "code",
   "execution_count": 24,
   "id": "f691e2b9-cdc5-4616-8e3b-93bafd2b65ae",
   "metadata": {},
   "outputs": [],
   "source": [
    "def hash(string):\n",
    "    currentVal = 0\n",
    "    \n",
    "    for char in string:\n",
    "        currentVal += ord(char)  # ASCII value (Time Complexity: O(n), where n is the length of the string)\n",
    "        currentVal *= 17         # Constant time operation (Time Complexity: O(1))\n",
    "        currentVal %= 256        # Constant time operation (Time Complexity: O(1))\n",
    "        \n",
    "    return currentVal"
   ]
  },
  {
   "cell_type": "code",
   "execution_count": 26,
   "id": "c5823130-f772-4589-bae4-bca8e756aa01",
   "metadata": {},
   "outputs": [
    {
     "name": "stdout",
     "output_type": "stream",
     "text": [
      "505533\n"
     ]
    }
   ],
   "source": [
    "# Part One\n",
    "\n",
    "parts = lensData.split(\",\")\n",
    "currentVal = 0\n",
    "total = 0\n",
    "for part in parts:\n",
    "    currentVal = hash(part)    # Calling the hash function (Time Complexity: O(m), where m is the length of the part string)\n",
    "    total += currentVal        # Accumulating total (Time Complexity: O(1))\n",
    "\n",
    "print(total)"
   ]
  },
  {
   "cell_type": "code",
   "execution_count": 19,
   "id": "3c75a8a4-e05d-4d7b-8455-2a18b3685219",
   "metadata": {},
   "outputs": [
    {
     "name": "stdout",
     "output_type": "stream",
     "text": [
      "263211\n"
     ]
    }
   ],
   "source": [
    "# Part Two\n",
    "\n",
    "boxes = [[] for _ in range(256)]  # Creating a list of lists (Time Complexity: O(1))\n",
    "\n",
    "parts = lensData.split(\",\")\n",
    "for part in parts:\n",
    "    if \"-\" in part:\n",
    "        label = part[:part.index(\"-\")]\n",
    "        box = hash(label)        # Calling the hash function (Time Complexity: O(n), where n is the length of the label)\n",
    "        lens = list(filter(lambda x: x[0] == label, boxes[box]))  # Filtering a list (Time Complexity: O(k), where k is the number of elements in the list)\n",
    "        if len(lens) > 0:\n",
    "            idx = boxes[box].index(lens[0])  # Finding index in a list (Time Complexity: O(k))\n",
    "            boxes[box].pop(idx)               # Removing an element from a list (Time Complexity: O(k))\n",
    "    \n",
    "    if \"=\" in part:\n",
    "        label = part[:part.index(\"=\")]\n",
    "        box = hash(label)        # Calling the hash function (Time Complexity: O(n), where n is the length of the label)\n",
    "        focal_len = int(part[part.index(\"=\")+1:])  # Converting string to integer (Time Complexity: O(d), where d is the length of the substring)\n",
    "        lens = list(filter(lambda x: x[0] == label, boxes[box]))  # Filtering a list (Time Complexity: O(k), where k is the number of elements in the list)\n",
    "        if len(lens) > 0:\n",
    "            idx = boxes[box].index(lens[0])  # Finding index in a list (Time Complexity: O(k))\n",
    "            boxes[box][idx] = [label, focal_len]  # Updating an element in a list (Time Complexity: O(1))\n",
    "        else:\n",
    "            boxes[box].append([label, focal_len])  # Appending to a list (Time Complexity: O(1))\n",
    "\n",
    "total = 0\n",
    "\n",
    "for i, box in enumerate(boxes):\n",
    "    power = 0\n",
    "    for j, lens in enumerate(box):\n",
    "        power += (1 + i) * (j + 1) * lens[1]  # Simple arithmetic operations (Time Complexity: O(1))\n",
    "    total += power  # Accumulating total (Time Complexity: O(1))\n",
    "\n",
    "print(total)"
   ]
  },
  {
   "cell_type": "markdown",
   "id": "a0b76a07-6c09-4b61-b0a9-843619b3ab91",
   "metadata": {},
   "source": [
    "The dominant term is the loop over parts in both Part One and Part Two. Therefore, the overall time complexity is O(m * n), where m is the number of parts and n is the average length of the parts."
   ]
  }
 ],
 "metadata": {
  "kernelspec": {
   "display_name": "anaconda-panel-2023.05-py310",
   "language": "python",
   "name": "conda-env-anaconda-panel-2023.05-py310-py"
  },
  "language_info": {
   "codemirror_mode": {
    "name": "ipython",
    "version": 3
   },
   "file_extension": ".py",
   "mimetype": "text/x-python",
   "name": "python",
   "nbconvert_exporter": "python",
   "pygments_lexer": "ipython3",
   "version": "3.11.5"
  }
 },
 "nbformat": 4,
 "nbformat_minor": 5
}
