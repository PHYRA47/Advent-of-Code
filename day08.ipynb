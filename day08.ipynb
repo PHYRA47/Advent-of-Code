{
 "cells": [
  {
   "cell_type": "markdown",
   "id": "26beba0a-6b37-43fd-b199-b8215ec54043",
   "metadata": {},
   "source": [
    "# Day 8: Haunted Wasteland"
   ]
  },
  {
   "cell_type": "code",
   "execution_count": 2,
   "id": "40661dc2-3fbe-45c7-8409-2b144d985ada",
   "metadata": {},
   "outputs": [],
   "source": [
    "with open('day08_data.txt', 'r') as file: \n",
    "    lines = file.read()"
   ]
  },
  {
   "cell_type": "code",
   "execution_count": 20,
   "id": "53e68dfa-241f-47e3-8cea-38bce0870d2b",
   "metadata": {},
   "outputs": [
    {
     "name": "stdout",
     "output_type": "stream",
     "text": [
      "21409\n"
     ]
    }
   ],
   "source": [
    "# Part One\n",
    "\n",
    "# Parsing input and building the network dictionary\n",
    "\n",
    "steps, _, *rest = lines.splitlines()  # List unpacking (Time Complexity: O(n), where n is the number of lines)\n",
    "\n",
    "network = {}\n",
    "\n",
    "for line in rest:\n",
    "    pos, targets = line.split(\" = \")\n",
    "    network[pos] = targets[1:-1].split(\", \")  # String splitting and list splitting (Time Complexity: O(m), where m is the length of the string)\n",
    "\n",
    "# Simulating the movement in the network until reaching the target \"ZZZ\"\n",
    "    \n",
    "step_count = 0\n",
    "current = \"AAA\"\n",
    "\n",
    "while current != \"ZZZ\":\n",
    "    step_count += 1  # Simple arithmetic operations (Time Complexity: O(1))\n",
    "\n",
    "    if steps[0] == \"L\":\n",
    "        current = network[current][0]\n",
    "    else:\n",
    "        current = network[current][1]\n",
    "\n",
    "    steps = steps[1:] + steps[0]  # String slicing and concatenation (Time Complexity: O(n), where n is the length of the string)\n",
    "\n",
    "print(step_count)\n"
   ]
  },
  {
   "cell_type": "code",
   "execution_count": 26,
   "id": "b9abdd32-d8a7-4fd8-9754-85f6ca8a30c2",
   "metadata": {},
   "outputs": [
    {
     "name": "stdout",
     "output_type": "stream",
     "text": [
      "21165830176709\n"
     ]
    }
   ],
   "source": [
    "# Part Two\n",
    "\n",
    "from math import gcd\n",
    "\n",
    "steps, _, *rest = lines.splitlines()  # List unpacking (Time Complexity: O(n), where n is the number of lines)\n",
    "\n",
    "network = {}\n",
    "\n",
    "for line in rest:\n",
    "    pos, targets = line.split(\" = \")\n",
    "    network[pos] = targets[1:-1].split(\", \")  # String splitting and list splitting (Time Complexity: O(m), where m is the length of the string)\n",
    "\n",
    "# Finding positions ending with \"A\" and calculating the cycles\n",
    "    \n",
    "positions = [key for key in network if key.endswith(\"A\")]  # List comprehension (Time Complexity: O(p), where p is the number of positions)\n",
    "cycles = []\n",
    "\n",
    "for current in positions:\n",
    "    cycle = []\n",
    "\n",
    "    current_steps = steps\n",
    "    step_count = 0\n",
    "    first_z = None\n",
    "\n",
    "    while True:\n",
    "        while step_count == 0 or not current.endswith(\"Z\"):\n",
    "            step_count += 1  # Simple arithmetic operations (Time Complexity: O(1))\n",
    "            current = network[current][0 if current_steps[0] == \"L\" else 1]\n",
    "            current_steps = current_steps[1:] + current_steps[0]  # String slicing and concatenation (Time Complexity: O(n), where n is the length of the string)\n",
    "\n",
    "        cycle.append(step_count)\n",
    "\n",
    "        if first_z is None:\n",
    "            first_z = current\n",
    "            step_count = 0\n",
    "        elif current == first_z:\n",
    "            break\n",
    "\n",
    "    cycles.append(cycle)\n",
    "\n",
    "# Calculating the least common multiple of cycle lengths\n",
    "    \n",
    "nums = [cycle[0] for cycle in cycles]  # List comprehension (Time Complexity: O(c), where c is the number of cycles)\n",
    "\n",
    "lcm = nums.pop()  # List popping (Time Complexity: O(1))\n",
    "\n",
    "for num in nums:\n",
    "    lcm = lcm * num // gcd(lcm, num)  # Simple arithmetic operations (Time Complexity: O(log(min(lcm, num))))\n",
    "\n",
    "print(lcm)"
   ]
  },
  {
   "cell_type": "markdown",
   "id": "1d5f300b-7fc9-4350-8386-2ae2fc8e74ae",
   "metadata": {},
   "source": [
    "The dominant term is the nested loops in both Part One and Part Two. Therefore, the overall time complexity is O(p * c * n * m * log(min(lcm, num))), where p is the number of positions, c is the number of cycles, n is the length of the steps string, and m is the length of the targets string."
   ]
  }
 ],
 "metadata": {
  "kernelspec": {
   "display_name": "anaconda-panel-2023.05-py310",
   "language": "python",
   "name": "conda-env-anaconda-panel-2023.05-py310-py"
  },
  "language_info": {
   "codemirror_mode": {
    "name": "ipython",
    "version": 3
   },
   "file_extension": ".py",
   "mimetype": "text/x-python",
   "name": "python",
   "nbconvert_exporter": "python",
   "pygments_lexer": "ipython3",
   "version": "3.11.5"
  }
 },
 "nbformat": 4,
 "nbformat_minor": 5
}
