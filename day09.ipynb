{
 "cells": [
  {
   "cell_type": "markdown",
   "id": "ec7767df-a8ad-46d7-9ea0-5dddd28caa20",
   "metadata": {},
   "source": [
    "# Day 9: Mirage Maintenance"
   ]
  },
  {
   "cell_type": "code",
   "execution_count": 83,
   "id": "6999bbe7-b6a0-49f2-8edd-bcd8566a2650",
   "metadata": {},
   "outputs": [],
   "source": [
    "with open('day09_data.txt', 'r') as file:\n",
    "    text = file.read()\n",
    "\n",
    "lines = text.splitlines()"
   ]
  },
  {
   "cell_type": "code",
   "execution_count": 1,
   "id": "24abca47-a306-4619-acf0-2a8937c3077c",
   "metadata": {},
   "outputs": [],
   "source": [
    "def diff(array): # O(n), where n is the length of the input array.\n",
    "    differences = []\n",
    "    for i in range(len(array) - 1):\n",
    "        differences.append(array[i + 1] - array[i])  # Simple arithmetic operations (Time Complexity: O(1))\n",
    "    return differences\n",
    "\n",
    "\n",
    "\n",
    "def extrapolate(history): # O(m * n), where m is the length of the input list, and n is the length of the list passed to the diff function\n",
    "    layers = [history]\n",
    "    \n",
    "    while not all([x == 0 for x in layers[-1]]):  # Checking all elements in a list (Time Complexity: O(n), where n is the length of the list)\n",
    "        layers.append(diff(layers[-1]))  # Calling the 'diff' function (Time Complexity: O(m), where m is the length of the list)\n",
    "        \n",
    "    layers[-1].append(0)\n",
    "    for i in range(len(layers) - 2, -1, -1):  # Looping in reverse (Time Complexity: O(m), where m is the length of the list)\n",
    "        layers[i].append(layers[i][-1] + layers[i + 1][-1])  # Simple arithmetic operations (Time Complexity: O(1))    \n",
    "    \n",
    "    return layers[0][-1]"
   ]
  },
  {
   "cell_type": "code",
   "execution_count": 89,
   "id": "2f28864f-8bdd-4d57-8099-5eade9f2d19c",
   "metadata": {},
   "outputs": [
    {
     "name": "stdout",
     "output_type": "stream",
     "text": [
      "1868368343\n"
     ]
    }
   ],
   "source": [
    "# Part One\n",
    "\n",
    "total = []\n",
    "for line in lines:\n",
    "    array = list(map(int, line.split()))  # List comprehension (Time Complexity: O(n), where n is the number of elements in the list)\n",
    "    total.append(extrapolate(array))  # Calling the 'extrapolate' function (Time Complexity: O(m), where m is the length of the list)\n",
    "    \n",
    "print(sum(total))  # Summing elements in a list (Time Complexity: O(p), where p is the length of the list)"
   ]
  },
  {
   "cell_type": "code",
   "execution_count": 87,
   "id": "d274d9e1-e4b8-4672-b8fc-a5bdbd672a3f",
   "metadata": {},
   "outputs": [
    {
     "name": "stdout",
     "output_type": "stream",
     "text": [
      "1022\n"
     ]
    }
   ],
   "source": [
    "# Part Two\n",
    "\n",
    "total = []\n",
    "for line in lines:\n",
    "    array = list(map(int, line.split()[::-1]))  # List comprehension and list reversal (Time Complexity: O(n), where n is the number of elements in the list)\n",
    "    total.append(extrapolate(array))  # Calling the 'extrapolate' function (Time Complexity: O(m), where m is the length of the list)\n",
    "    \n",
    "print(sum(total))  # Summing elements in a list (Time Complexity: O(p), where p is the length of the list)"
   ]
  },
  {
   "cell_type": "markdown",
   "id": "1695f408-525e-4673-bd67-a77d6b3bb7de",
   "metadata": {},
   "source": [
    "The dominant term is the nested loop in the extrapolate function. Therefore, the overall time complexity is O(m * n), where m is the length of the list in extrapolate and n is the number of lines in the input."
   ]
  }
 ],
 "metadata": {
  "kernelspec": {
   "display_name": "anaconda-panel-2023.05-py310",
   "language": "python",
   "name": "conda-env-anaconda-panel-2023.05-py310-py"
  },
  "language_info": {
   "codemirror_mode": {
    "name": "ipython",
    "version": 3
   },
   "file_extension": ".py",
   "mimetype": "text/x-python",
   "name": "python",
   "nbconvert_exporter": "python",
   "pygments_lexer": "ipython3",
   "version": "3.11.5"
  }
 },
 "nbformat": 4,
 "nbformat_minor": 5
}
